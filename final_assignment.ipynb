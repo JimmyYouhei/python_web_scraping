{
 "cells": [
  {
   "cell_type": "markdown",
   "source": [
    " <p style=\"text-align:center\">\n",
    "<a href=\"https://skills.network/?utm_medium=Exinfluencer&utm_source=Exinfluencer&utm_content=000026UJ&utm_term=10006555&utm_id=NA-SkillsNetwork-Channel-SkillsNetworkCoursesIBMDeveloperSkillsNetworkPY0220ENSkillsNetwork900-2022-01-01\" target=\"_blank\">\n",
    "<img src=\"https://cf-courses-data.s3.us.cloud-object-storage.appdomain.cloud/assets/logos/SN_web_lightmode.png\" width=\"200\" alt=\"Skills Network Logo\">\n",
    "</a>\n",
    "</p>"
   ],
   "metadata": {
    "collapsed": false
   },
   "id": "178a163e45b01876"
  },
  {
   "cell_type": "markdown",
   "source": [
    "<h1>Extracting and Visualizing Stock Data</h1>\n",
    "<h2>Description</h2>"
   ],
   "metadata": {
    "collapsed": false
   },
   "id": "924cd72cfeab6f0"
  },
  {
   "cell_type": "markdown",
   "source": [
    "Extracting essential data from a dataset and displaying it is a necessary part of data science; therefore individuals can make correct decisions based on the data. In this assignment, you will extract some stock data, you will then display this data in a graph.\n"
   ],
   "metadata": {
    "collapsed": false
   },
   "id": "4e69328415bb6781"
  },
  {
   "cell_type": "markdown",
   "source": [
    "<h2>Table of Contents</h2>\n",
    "<div class=\"alert alert-block alert-info\" style=\"margin-top: 20px\">\n",
    "    <ul>\n",
    "        <li>Define a Function that Makes a Graph</li>\n",
    "        <li>Question 1: Use yfinance to Extract Stock Data</li>\n",
    "        <li>Question 2: Use Webscraping to Extract Tesla Revenue Data</li>\n",
    "        <li>Question 3: Use yfinance to Extract Stock Data</li>\n",
    "        <li>Question 4: Use Webscraping to Extract GME Revenue Data</li>\n",
    "        <li>Question 5: Plot Tesla Stock Graph</li>\n",
    "        <li>Question 6: Plot GameStop Stock Graph</li>\n",
    "    </ul>\n",
    "<p>\n",
    "    Estimated Time Needed: <strong>30 min</strong></p>\n",
    "</div>\n",
    "\n",
    "<hr>"
   ],
   "metadata": {
    "collapsed": false
   },
   "id": "3cbf36cad479b88d"
  },
  {
   "cell_type": "code",
   "execution_count": null,
   "outputs": [],
   "source": [
    "import yfinance as yf\n",
    "import pandas as pd\n",
    "import requests\n",
    "from bs4 import BeautifulSoup\n",
    "import plotly.graph_objects as go\n",
    "from plotly.subplots import make_subplots"
   ],
   "metadata": {
    "collapsed": false,
    "is_executing": true
   },
   "id": "f0be8c39ac07e0ca"
  },
  {
   "cell_type": "markdown",
   "source": [
    "## Define Graphing Function"
   ],
   "metadata": {
    "collapsed": false
   },
   "id": "35038cff5b4bfc4f"
  },
  {
   "cell_type": "markdown",
   "source": [
    "In this section, we define the function `make_graph`. You don't have to know how the function works, you should only care about the inputs. It takes a dataframe with stock data (dataframe must contain Date and Close columns), a dataframe with revenue data (dataframe must contain Date and Revenue columns), and the name of the stock.\n"
   ],
   "metadata": {
    "collapsed": false
   },
   "id": "651d0038497dec3f"
  },
  {
   "cell_type": "code",
   "execution_count": null,
   "outputs": [],
   "source": [
    "def make_graph(stock_data, revenue_data, stock):\n",
    "    fig = make_subplots(rows=2, cols=1, shared_xaxes=True, subplot_titles=(\"Historical Share Price\", \"Historical Revenue\"), vertical_spacing = .3)\n",
    "    stock_data_specific = stock_data[stock_data.Date <= '2021--06-14']\n",
    "    revenue_data_specific = revenue_data[revenue_data.Date <= '2021-04-30']\n",
    "    fig.add_trace(go.Scatter(x=pd.to_datetime(stock_data_specific.Date, infer_datetime_format=True), y=stock_data_specific.Close.astype(\"float\"), name=\"Share Price\"), row=1, col=1)\n",
    "    fig.add_trace(go.Scatter(x=pd.to_datetime(revenue_data_specific.Date, infer_datetime_format=True), y=revenue_data_specific.Revenue.astype(\"float\"), name=\"Revenue\"), row=2, col=1)\n",
    "    fig.update_xaxes(title_text=\"Date\", row=1, col=1)\n",
    "    fig.update_xaxes(title_text=\"Date\", row=2, col=1)\n",
    "    fig.update_yaxes(title_text=\"Price ($US)\", row=1, col=1)\n",
    "    fig.update_yaxes(title_text=\"Revenue ($US Millions)\", row=2, col=1)\n",
    "    fig.update_layout(showlegend=False,\n",
    "                      height=900,\n",
    "                      title=stock,\n",
    "                      xaxis_rangeslider_visible=True)\n",
    "    fig.show()"
   ],
   "metadata": {
    "collapsed": false,
    "is_executing": true
   },
   "id": "838fb471dbb78d40"
  },
  {
   "cell_type": "markdown",
   "source": [
    "## Question 1: Use yfinance to Extract Stock Data\n"
   ],
   "metadata": {
    "collapsed": false
   },
   "id": "8b7b48e82e9a3ed3"
  },
  {
   "cell_type": "markdown",
   "source": [
    "Using the `Ticker` function enter the ticker symbol of the stock we want to extract data on to create a ticker object. The stock is Tesla and its ticker symbol is `TSLA`.\n"
   ],
   "metadata": {
    "collapsed": false
   },
   "id": "abbe451a5a25e3d5"
  },
  {
   "cell_type": "code",
   "execution_count": null,
   "outputs": [],
   "source": [
    "tesla = yf.Ticker(\"TSLA\")"
   ],
   "metadata": {
    "collapsed": false,
    "is_executing": true
   },
   "id": "4ef5b2aa847626da"
  },
  {
   "cell_type": "markdown",
   "source": [
    "Using the ticker object and the function `history` extract stock information and save it in a dataframe named `tesla_data`. Set the `period` parameter to `max` so we get information for the maximum amount of time.\n"
   ],
   "metadata": {
    "collapsed": false
   },
   "id": "41bf01fcd17930e"
  },
  {
   "cell_type": "code",
   "execution_count": null,
   "outputs": [],
   "source": [
    "tesla_data = tesla.history(period=\"max\")"
   ],
   "metadata": {
    "collapsed": false,
    "is_executing": true
   },
   "id": "d19f1bf4a7820d84"
  },
  {
   "cell_type": "markdown",
   "source": [
    "**Reset the index** using the `reset_index(inplace=True)` function on the tesla_data DataFrame and display the first five rows of the `tesla_data` dataframe using the `head` function. Take a screenshot of the results and code from the beginning of Question 1 to the results below.\n"
   ],
   "metadata": {
    "collapsed": false
   },
   "id": "b54f7fd4125303c6"
  },
  {
   "cell_type": "code",
   "execution_count": null,
   "outputs": [],
   "source": [
    "tesla_data.reset_index(inplace=True)\n",
    "tesla_data.head()"
   ],
   "metadata": {
    "collapsed": false,
    "is_executing": true
   },
   "id": "a75a59efe8264bec"
  },
  {
   "cell_type": "markdown",
   "source": [
    "## Question 2: Use Webscraping to Extract Tesla Revenue Data\n"
   ],
   "metadata": {
    "collapsed": false
   },
   "id": "8b3933bf4ff91f86"
  },
  {
   "cell_type": "markdown",
   "source": [
    "Use the `requests` library to download the webpage https://cf-courses-data.s3.us.cloud-object-storage.appdomain.cloud/IBMDeveloperSkillsNetwork-PY0220EN-SkillsNetwork/labs/project/revenue.htm Save the text of the response as a variable named `html_data`.\n"
   ],
   "metadata": {
    "collapsed": false
   },
   "id": "12e137deab73066d"
  },
  {
   "cell_type": "code",
   "execution_count": null,
   "outputs": [],
   "source": [
    "url = \"https://cf-courses-data.s3.us.cloud-object-storage.appdomain.cloud/IBMDeveloperSkillsNetwork-PY0220EN-SkillsNetwork/labs/project/revenue.htm\"\n",
    "\n",
    "html_data  = requests.get(url).text"
   ],
   "metadata": {
    "collapsed": false,
    "is_executing": true
   },
   "id": "7fa0b7996bdfc977"
  },
  {
   "cell_type": "markdown",
   "source": [
    "Parse the html data using `beautiful_soup`.\n"
   ],
   "metadata": {
    "collapsed": false
   },
   "id": "5406a76c829e8ceb"
  },
  {
   "cell_type": "code",
   "execution_count": null,
   "outputs": [],
   "source": [
    "bs = BeautifulSoup(html_data, 'html5lib')\n"
   ],
   "metadata": {
    "collapsed": false,
    "is_executing": true
   },
   "id": "f0a087db8f541a5f"
  },
  {
   "cell_type": "markdown",
   "source": [
    "Using `BeautifulSoup` or the `read_html` function extract the table with `Tesla Revenue` and store it into a dataframe named `tesla_revenue`. The dataframe should have columns `Date` and `Revenue`.\n"
   ],
   "metadata": {
    "collapsed": false
   },
   "id": "5a84ead73b6cdfe0"
  },
  {
   "cell_type": "code",
   "execution_count": null,
   "outputs": [],
   "source": [
    "tesla_revenue = pd.read_html(url)[1]\n",
    "tesla_revenue.columns = [\"Date\", \"Revenue\"]\n",
    "tesla_revenue.head()"
   ],
   "metadata": {
    "collapsed": false,
    "is_executing": true
   },
   "id": "8a6fccd42172ec97"
  },
  {
   "cell_type": "markdown",
   "source": [
    "Execute the following line to remove the comma and dollar sign from the `Revenue` column. \n"
   ],
   "metadata": {
    "collapsed": false
   },
   "id": "5522ebc7d40a0919"
  },
  {
   "cell_type": "code",
   "execution_count": null,
   "outputs": [],
   "source": [
    "tesla_revenue[\"Revenue\"] = tesla_revenue['Revenue'].str.replace(',|\\$',\"\")\n"
   ],
   "metadata": {
    "collapsed": false,
    "is_executing": true
   },
   "id": "72e58b86a5e526c4"
  },
  {
   "cell_type": "markdown",
   "source": [
    "Execute the following lines to remove an null or empty strings in the Revenue column.\n"
   ],
   "metadata": {
    "collapsed": false
   },
   "id": "f18c6eb4b253addd"
  },
  {
   "cell_type": "code",
   "execution_count": null,
   "outputs": [],
   "source": [
    "tesla_revenue.dropna(inplace=True)\n",
    "\n",
    "tesla_revenue = tesla_revenue[tesla_revenue['Revenue'] != \"\"]"
   ],
   "metadata": {
    "collapsed": false,
    "ExecuteTime": {
     "start_time": "2023-09-16T10:11:48.552266800Z"
    }
   },
   "id": "97f15b9a187906cc"
  },
  {
   "cell_type": "markdown",
   "source": [
    "Display the last 5 row of the `tesla_revenue` dataframe using the `tail` function. Take a screenshot of the results.\n"
   ],
   "metadata": {
    "collapsed": false
   },
   "id": "9f3aafbf36faab49"
  },
  {
   "cell_type": "code",
   "execution_count": null,
   "outputs": [],
   "source": [
    "tesla_revenue.tail()\n"
   ],
   "metadata": {
    "collapsed": false,
    "ExecuteTime": {
     "end_time": "2023-09-16T10:11:48.552266800Z",
     "start_time": "2023-09-16T10:11:48.552266800Z"
    }
   },
   "id": "a005fce7729a008"
  },
  {
   "cell_type": "markdown",
   "source": [
    "## Question 3: Use yfinance to Extract Stock Data\n"
   ],
   "metadata": {
    "collapsed": false
   },
   "id": "ffc6deb13de569ea"
  },
  {
   "cell_type": "markdown",
   "source": [
    "Using the `Ticker` function enter the ticker symbol of the stock we want to extract data on to create a ticker object. The stock is GameStop and its ticker symbol is `GME`.\n"
   ],
   "metadata": {
    "collapsed": false
   },
   "id": "beb72cb49da18260"
  },
  {
   "cell_type": "code",
   "execution_count": null,
   "outputs": [],
   "source": [
    "gme = yf.Ticker(\"GME\")\n"
   ],
   "metadata": {
    "collapsed": false,
    "ExecuteTime": {
     "start_time": "2023-09-16T10:11:48.560271400Z"
    }
   },
   "id": "740e892825b09db6"
  },
  {
   "cell_type": "markdown",
   "source": [
    "Using the ticker object and the function `history` extract stock information and save it in a dataframe named `gme_data`. Set the `period` parameter to `max` so we get information for the maximum amount of time.\n"
   ],
   "metadata": {
    "collapsed": false
   },
   "id": "6fa45abfabd9c837"
  },
  {
   "cell_type": "code",
   "execution_count": null,
   "outputs": [],
   "source": [
    "gme_data = pd.DataFrame(gme.history(period=\"max\"))\n"
   ],
   "metadata": {
    "collapsed": false,
    "ExecuteTime": {
     "start_time": "2023-09-16T10:11:48.560271400Z"
    }
   },
   "id": "6daf8c618a512bf3"
  },
  {
   "cell_type": "markdown",
   "source": [
    "**Reset the index** using the `reset_index(inplace=True)` function on the gme_data DataFrame and display the first five rows of the `gme_data` dataframe using the `head` function. Take a screenshot of the results and code from the beginning of Question 3 to the results below.\n"
   ],
   "metadata": {
    "collapsed": false
   },
   "id": "16800d41f24b04cc"
  },
  {
   "cell_type": "code",
   "execution_count": null,
   "outputs": [],
   "source": [
    "gme_data.reset_index(inplace=True)\n",
    "gme_data.head()"
   ],
   "metadata": {
    "collapsed": false,
    "ExecuteTime": {
     "start_time": "2023-09-16T10:11:48.568312600Z"
    }
   },
   "id": "769becaab12014ff"
  },
  {
   "cell_type": "markdown",
   "source": [
    "## Question 4: Use Webscraping to Extract GME Revenue Data\n"
   ],
   "metadata": {
    "collapsed": false
   },
   "id": "aa9b30bbaae6b3b8"
  },
  {
   "cell_type": "markdown",
   "source": [
    "Use the `requests` library to download the webpage https://cf-courses-data.s3.us.cloud-object-storage.appdomain.cloud/IBMDeveloperSkillsNetwork-PY0220EN-SkillsNetwork/labs/project/stock.html. Save the text of the response as a variable named `html_data`.\n"
   ],
   "metadata": {
    "collapsed": false
   },
   "id": "dcdba5a3717623ea"
  },
  {
   "cell_type": "code",
   "execution_count": null,
   "outputs": [],
   "source": [
    "url = \"https://cf-courses-data.s3.us.cloud-object-storage.appdomain.cloud/IBMDeveloperSkillsNetwork-PY0220EN-SkillsNetwork/labs/project/stock.html\"\n",
    "\n",
    "html_data  = requests.get(url).text"
   ],
   "metadata": {
    "collapsed": false,
    "ExecuteTime": {
     "start_time": "2023-09-16T10:11:48.568312600Z"
    }
   },
   "id": "7f738024be726471"
  },
  {
   "cell_type": "markdown",
   "source": [
    "Parse the html data using `beautiful_soup`.\n"
   ],
   "metadata": {
    "collapsed": false
   },
   "id": "b8b49ce46a9b859c"
  },
  {
   "cell_type": "code",
   "execution_count": null,
   "outputs": [],
   "source": [
    "bs = BeautifulSoup(html_data, 'html5lib')\n"
   ],
   "metadata": {
    "collapsed": false,
    "ExecuteTime": {
     "start_time": "2023-09-16T10:11:48.568312600Z"
    }
   },
   "id": "c8306f0294eb899c"
  },
  {
   "cell_type": "markdown",
   "source": [
    "Using `BeautifulSoup` or the `read_html` function extract the table with `GameStop Revenue` and store it into a dataframe named `gme_revenue`. The dataframe should have columns `Date` and `Revenue`. Make sure the comma and dollar sign is removed from the `Revenue` column using a method similar to what you did in Question 2.\n"
   ],
   "metadata": {
    "collapsed": false
   },
   "id": "7e22cd20266b1050"
  },
  {
   "cell_type": "code",
   "execution_count": null,
   "outputs": [],
   "source": [
    "gme_revenue = pd.DataFrame(columns=[\"Date\", \"Revenue\"])\n",
    "\n",
    "for row in bs.find_all(\"tbody\")[1].find_all(\"tr\"):\n",
    "    col = row.find_all(\"td\")\n",
    "    date = col[0].text\n",
    "    revenue = col[1].text.replace(\"$\",\"\").replace(\",\",\"\")\n",
    "    gme_revenue = gme_revenue.append({\"Date\":date, \"Revenue\":revenue}, ignore_index=True)"
   ],
   "metadata": {
    "collapsed": false,
    "ExecuteTime": {
     "end_time": "2023-09-16T10:11:48.576379Z",
     "start_time": "2023-09-16T10:11:48.568312600Z"
    }
   },
   "id": "22019139604989e8"
  },
  {
   "cell_type": "markdown",
   "source": [
    "Display the last five rows of the `gme_revenue` dataframe using the `tail` function. Take a screenshot of the results.\n"
   ],
   "metadata": {
    "collapsed": false
   },
   "id": "4487a497456297ab"
  },
  {
   "cell_type": "code",
   "execution_count": null,
   "outputs": [],
   "source": [
    "gme_data.tail()"
   ],
   "metadata": {
    "collapsed": false,
    "ExecuteTime": {
     "start_time": "2023-09-16T10:11:48.576379Z"
    }
   },
   "id": "3e76ba75dd9b90dd"
  },
  {
   "cell_type": "markdown",
   "source": [
    "## Question 5: Plot Tesla Stock Graph\n"
   ],
   "metadata": {
    "collapsed": false
   },
   "id": "862d2a2e1a79330c"
  },
  {
   "cell_type": "markdown",
   "source": [
    "Use the `make_graph` function to graph the Tesla Stock Data, also provide a title for the graph. The structure to call the `make_graph` function is `make_graph(tesla_data, tesla_revenue, 'Tesla')`. Note the graph will only show data upto June 2021.\n"
   ],
   "metadata": {
    "collapsed": false
   },
   "id": "c9b38f415be34af1"
  },
  {
   "cell_type": "code",
   "execution_count": null,
   "outputs": [],
   "source": [
    "make_graph(tesla_data, tesla_revenue, 'Tesla')\n"
   ],
   "metadata": {
    "collapsed": false,
    "ExecuteTime": {
     "start_time": "2023-09-16T10:11:48.576379Z"
    }
   },
   "id": "d56144188d041c72"
  },
  {
   "cell_type": "markdown",
   "source": [
    "## Question 6: Plot GameStop Stock Graph\n"
   ],
   "metadata": {
    "collapsed": false
   },
   "id": "2e7d5e9ce535972b"
  },
  {
   "cell_type": "markdown",
   "source": [
    "Use the `make_graph` function to graph the GameStop Stock Data, also provide a title for the graph. The structure to call the `make_graph` function is `make_graph(gme_data, gme_revenue, 'GameStop')`. Note the graph will only show data upto June 2021.\n"
   ],
   "metadata": {
    "collapsed": false
   },
   "id": "a2fa88b7a08c027f"
  },
  {
   "cell_type": "code",
   "execution_count": null,
   "outputs": [],
   "source": [
    "make_graph(gme_data, gme_revenue, 'GameStop')\n"
   ],
   "metadata": {
    "collapsed": false,
    "ExecuteTime": {
     "start_time": "2023-09-16T10:11:48.576379Z"
    }
   },
   "id": "3c4d88c6ae6898a6"
  },
  {
   "cell_type": "markdown",
   "source": [
    "<h2>About the Authors:</h2>\n",
    "\n",
    "<a href=\"https://www.linkedin.com/in/joseph-s-50398b136/\">Joseph Santarcangelo</a> has a PhD in Electrical Engineering, his research focused on using machine learning, signal processing, and computer vision to determine how videos impact human cognition. Joseph has been working for IBM since he completed his PhD.\n",
    "\n",
    "Azim Hirjani"
   ],
   "metadata": {
    "collapsed": false
   },
   "id": "4b589aa9da2459b2"
  },
  {
   "cell_type": "markdown",
   "source": [
    "## Change Log\n",
    "\n",
    "| Date (YYYY-MM-DD) | Version | Changed By    | Change Description        |\n",
    "| ----------------- | ------- | ------------- | ------------------------- |\n",
    "| 2022-02-28        | 1.2     | Lakshmi Holla | Changed the URL of GameStop |\n",
    "| 2020-11-10        | 1.1     | Malika Singla | Deleted the Optional part |\n",
    "| 2020-08-27        | 1.0     | Malika Singla | Added lab to GitLab       |\n",
    "\n",
    "<hr>\n",
    "\n",
    "## <h3 align=\"center\"> © IBM Corporation 2020. All rights reserved. <h3/>\n",
    "\n",
    "<p>\n"
   ],
   "metadata": {
    "collapsed": false
   },
   "id": "fe17c90e3cca8a21"
  }
 ],
 "metadata": {
  "kernelspec": {
   "display_name": "Python 3",
   "language": "python",
   "name": "python3"
  },
  "language_info": {
   "codemirror_mode": {
    "name": "ipython",
    "version": 2
   },
   "file_extension": ".py",
   "mimetype": "text/x-python",
   "name": "python",
   "nbconvert_exporter": "python",
   "pygments_lexer": "ipython2",
   "version": "2.7.6"
  }
 },
 "nbformat": 4,
 "nbformat_minor": 5
}
